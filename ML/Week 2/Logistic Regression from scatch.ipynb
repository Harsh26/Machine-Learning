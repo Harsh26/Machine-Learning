{
 "cells": [
  {
   "cell_type": "code",
   "execution_count": 110,
   "id": "9c37a1d8",
   "metadata": {},
   "outputs": [],
   "source": [
    "# Based on the titanic dataset we will predict, given the data as below, if boarder survived or not (Binary Classification)\n",
    "import numpy as np\n",
    "import pandas as pd\n",
    "import matplotlib.pyplot as plt"
   ]
  },
  {
   "cell_type": "code",
   "execution_count": 111,
   "id": "2c185212",
   "metadata": {},
   "outputs": [],
   "source": [
    "dataset = pd.read_csv(\"data/titanic.csv\")"
   ]
  },
  {
   "cell_type": "code",
   "execution_count": 112,
   "id": "43fd902e",
   "metadata": {},
   "outputs": [
    {
     "data": {
      "text/html": [
       "<div>\n",
       "<style scoped>\n",
       "    .dataframe tbody tr th:only-of-type {\n",
       "        vertical-align: middle;\n",
       "    }\n",
       "\n",
       "    .dataframe tbody tr th {\n",
       "        vertical-align: top;\n",
       "    }\n",
       "\n",
       "    .dataframe thead th {\n",
       "        text-align: right;\n",
       "    }\n",
       "</style>\n",
       "<table border=\"1\" class=\"dataframe\">\n",
       "  <thead>\n",
       "    <tr style=\"text-align: right;\">\n",
       "      <th></th>\n",
       "      <th>PassengerId</th>\n",
       "      <th>Survived</th>\n",
       "      <th>Pclass</th>\n",
       "      <th>Name</th>\n",
       "      <th>Sex</th>\n",
       "      <th>Age</th>\n",
       "      <th>SibSp</th>\n",
       "      <th>Parch</th>\n",
       "      <th>Ticket</th>\n",
       "      <th>Fare</th>\n",
       "      <th>Cabin</th>\n",
       "      <th>Embarked</th>\n",
       "    </tr>\n",
       "  </thead>\n",
       "  <tbody>\n",
       "    <tr>\n",
       "      <th>0</th>\n",
       "      <td>892</td>\n",
       "      <td>0</td>\n",
       "      <td>3</td>\n",
       "      <td>Kelly, Mr. James</td>\n",
       "      <td>male</td>\n",
       "      <td>34.5</td>\n",
       "      <td>0</td>\n",
       "      <td>0</td>\n",
       "      <td>330911</td>\n",
       "      <td>7.8292</td>\n",
       "      <td>NaN</td>\n",
       "      <td>Q</td>\n",
       "    </tr>\n",
       "    <tr>\n",
       "      <th>1</th>\n",
       "      <td>893</td>\n",
       "      <td>1</td>\n",
       "      <td>3</td>\n",
       "      <td>Wilkes, Mrs. James (Ellen Needs)</td>\n",
       "      <td>female</td>\n",
       "      <td>47.0</td>\n",
       "      <td>1</td>\n",
       "      <td>0</td>\n",
       "      <td>363272</td>\n",
       "      <td>7.0000</td>\n",
       "      <td>NaN</td>\n",
       "      <td>S</td>\n",
       "    </tr>\n",
       "    <tr>\n",
       "      <th>2</th>\n",
       "      <td>894</td>\n",
       "      <td>0</td>\n",
       "      <td>2</td>\n",
       "      <td>Myles, Mr. Thomas Francis</td>\n",
       "      <td>male</td>\n",
       "      <td>62.0</td>\n",
       "      <td>0</td>\n",
       "      <td>0</td>\n",
       "      <td>240276</td>\n",
       "      <td>9.6875</td>\n",
       "      <td>NaN</td>\n",
       "      <td>Q</td>\n",
       "    </tr>\n",
       "    <tr>\n",
       "      <th>3</th>\n",
       "      <td>895</td>\n",
       "      <td>0</td>\n",
       "      <td>3</td>\n",
       "      <td>Wirz, Mr. Albert</td>\n",
       "      <td>male</td>\n",
       "      <td>27.0</td>\n",
       "      <td>0</td>\n",
       "      <td>0</td>\n",
       "      <td>315154</td>\n",
       "      <td>8.6625</td>\n",
       "      <td>NaN</td>\n",
       "      <td>S</td>\n",
       "    </tr>\n",
       "    <tr>\n",
       "      <th>4</th>\n",
       "      <td>896</td>\n",
       "      <td>1</td>\n",
       "      <td>3</td>\n",
       "      <td>Hirvonen, Mrs. Alexander (Helga E Lindqvist)</td>\n",
       "      <td>female</td>\n",
       "      <td>22.0</td>\n",
       "      <td>1</td>\n",
       "      <td>1</td>\n",
       "      <td>3101298</td>\n",
       "      <td>12.2875</td>\n",
       "      <td>NaN</td>\n",
       "      <td>S</td>\n",
       "    </tr>\n",
       "  </tbody>\n",
       "</table>\n",
       "</div>"
      ],
      "text/plain": [
       "   PassengerId  Survived  Pclass  \\\n",
       "0          892         0       3   \n",
       "1          893         1       3   \n",
       "2          894         0       2   \n",
       "3          895         0       3   \n",
       "4          896         1       3   \n",
       "\n",
       "                                           Name     Sex   Age  SibSp  Parch  \\\n",
       "0                              Kelly, Mr. James    male  34.5      0      0   \n",
       "1              Wilkes, Mrs. James (Ellen Needs)  female  47.0      1      0   \n",
       "2                     Myles, Mr. Thomas Francis    male  62.0      0      0   \n",
       "3                              Wirz, Mr. Albert    male  27.0      0      0   \n",
       "4  Hirvonen, Mrs. Alexander (Helga E Lindqvist)  female  22.0      1      1   \n",
       "\n",
       "    Ticket     Fare Cabin Embarked  \n",
       "0   330911   7.8292   NaN        Q  \n",
       "1   363272   7.0000   NaN        S  \n",
       "2   240276   9.6875   NaN        Q  \n",
       "3   315154   8.6625   NaN        S  \n",
       "4  3101298  12.2875   NaN        S  "
      ]
     },
     "execution_count": 112,
     "metadata": {},
     "output_type": "execute_result"
    }
   ],
   "source": [
    "dataset.head(5)"
   ]
  },
  {
   "cell_type": "code",
   "execution_count": 113,
   "id": "51adc635",
   "metadata": {},
   "outputs": [
    {
     "data": {
      "text/html": [
       "<div>\n",
       "<style scoped>\n",
       "    .dataframe tbody tr th:only-of-type {\n",
       "        vertical-align: middle;\n",
       "    }\n",
       "\n",
       "    .dataframe tbody tr th {\n",
       "        vertical-align: top;\n",
       "    }\n",
       "\n",
       "    .dataframe thead th {\n",
       "        text-align: right;\n",
       "    }\n",
       "</style>\n",
       "<table border=\"1\" class=\"dataframe\">\n",
       "  <thead>\n",
       "    <tr style=\"text-align: right;\">\n",
       "      <th></th>\n",
       "      <th>Survived</th>\n",
       "      <th>Pclass</th>\n",
       "      <th>Sex</th>\n",
       "      <th>Age</th>\n",
       "      <th>SibSp</th>\n",
       "      <th>Parch</th>\n",
       "      <th>Fare</th>\n",
       "      <th>Embarked</th>\n",
       "    </tr>\n",
       "  </thead>\n",
       "  <tbody>\n",
       "    <tr>\n",
       "      <th>0</th>\n",
       "      <td>0</td>\n",
       "      <td>3</td>\n",
       "      <td>1</td>\n",
       "      <td>34.5</td>\n",
       "      <td>0</td>\n",
       "      <td>0</td>\n",
       "      <td>7.8292</td>\n",
       "      <td>1</td>\n",
       "    </tr>\n",
       "    <tr>\n",
       "      <th>1</th>\n",
       "      <td>1</td>\n",
       "      <td>3</td>\n",
       "      <td>0</td>\n",
       "      <td>47.0</td>\n",
       "      <td>1</td>\n",
       "      <td>0</td>\n",
       "      <td>7.0000</td>\n",
       "      <td>2</td>\n",
       "    </tr>\n",
       "    <tr>\n",
       "      <th>2</th>\n",
       "      <td>0</td>\n",
       "      <td>2</td>\n",
       "      <td>1</td>\n",
       "      <td>62.0</td>\n",
       "      <td>0</td>\n",
       "      <td>0</td>\n",
       "      <td>9.6875</td>\n",
       "      <td>1</td>\n",
       "    </tr>\n",
       "    <tr>\n",
       "      <th>3</th>\n",
       "      <td>0</td>\n",
       "      <td>3</td>\n",
       "      <td>1</td>\n",
       "      <td>27.0</td>\n",
       "      <td>0</td>\n",
       "      <td>0</td>\n",
       "      <td>8.6625</td>\n",
       "      <td>2</td>\n",
       "    </tr>\n",
       "    <tr>\n",
       "      <th>4</th>\n",
       "      <td>1</td>\n",
       "      <td>3</td>\n",
       "      <td>0</td>\n",
       "      <td>22.0</td>\n",
       "      <td>1</td>\n",
       "      <td>1</td>\n",
       "      <td>12.2875</td>\n",
       "      <td>2</td>\n",
       "    </tr>\n",
       "    <tr>\n",
       "      <th>...</th>\n",
       "      <td>...</td>\n",
       "      <td>...</td>\n",
       "      <td>...</td>\n",
       "      <td>...</td>\n",
       "      <td>...</td>\n",
       "      <td>...</td>\n",
       "      <td>...</td>\n",
       "      <td>...</td>\n",
       "    </tr>\n",
       "    <tr>\n",
       "      <th>409</th>\n",
       "      <td>1</td>\n",
       "      <td>3</td>\n",
       "      <td>0</td>\n",
       "      <td>3.0</td>\n",
       "      <td>1</td>\n",
       "      <td>1</td>\n",
       "      <td>13.7750</td>\n",
       "      <td>2</td>\n",
       "    </tr>\n",
       "    <tr>\n",
       "      <th>411</th>\n",
       "      <td>1</td>\n",
       "      <td>1</td>\n",
       "      <td>0</td>\n",
       "      <td>37.0</td>\n",
       "      <td>1</td>\n",
       "      <td>0</td>\n",
       "      <td>90.0000</td>\n",
       "      <td>1</td>\n",
       "    </tr>\n",
       "    <tr>\n",
       "      <th>412</th>\n",
       "      <td>1</td>\n",
       "      <td>3</td>\n",
       "      <td>0</td>\n",
       "      <td>28.0</td>\n",
       "      <td>0</td>\n",
       "      <td>0</td>\n",
       "      <td>7.7750</td>\n",
       "      <td>2</td>\n",
       "    </tr>\n",
       "    <tr>\n",
       "      <th>414</th>\n",
       "      <td>1</td>\n",
       "      <td>1</td>\n",
       "      <td>0</td>\n",
       "      <td>39.0</td>\n",
       "      <td>0</td>\n",
       "      <td>0</td>\n",
       "      <td>108.9000</td>\n",
       "      <td>0</td>\n",
       "    </tr>\n",
       "    <tr>\n",
       "      <th>415</th>\n",
       "      <td>0</td>\n",
       "      <td>3</td>\n",
       "      <td>1</td>\n",
       "      <td>38.5</td>\n",
       "      <td>0</td>\n",
       "      <td>0</td>\n",
       "      <td>7.2500</td>\n",
       "      <td>2</td>\n",
       "    </tr>\n",
       "  </tbody>\n",
       "</table>\n",
       "<p>331 rows × 8 columns</p>\n",
       "</div>"
      ],
      "text/plain": [
       "     Survived  Pclass  Sex   Age  SibSp  Parch      Fare  Embarked\n",
       "0           0       3    1  34.5      0      0    7.8292         1\n",
       "1           1       3    0  47.0      1      0    7.0000         2\n",
       "2           0       2    1  62.0      0      0    9.6875         1\n",
       "3           0       3    1  27.0      0      0    8.6625         2\n",
       "4           1       3    0  22.0      1      1   12.2875         2\n",
       "..        ...     ...  ...   ...    ...    ...       ...       ...\n",
       "409         1       3    0   3.0      1      1   13.7750         2\n",
       "411         1       1    0  37.0      1      0   90.0000         1\n",
       "412         1       3    0  28.0      0      0    7.7750         2\n",
       "414         1       1    0  39.0      0      0  108.9000         0\n",
       "415         0       3    1  38.5      0      0    7.2500         2\n",
       "\n",
       "[331 rows x 8 columns]"
      ]
     },
     "execution_count": 113,
     "metadata": {},
     "output_type": "execute_result"
    }
   ],
   "source": [
    "# Preprocessing the dataset\n",
    "\n",
    "# Dropping irrelevant cols\n",
    "dataset = dataset.drop(\"Name\", axis=1) # Name is not relevant, Gender may be..\n",
    "dataset = dataset.drop(\"Cabin\", axis=1) # Cabin number is irrelevant, Class may be relevant..\n",
    "dataset = dataset.drop(\"Ticket\", axis=1) # Ticker number is irrelevant, ticket fare may be relevant..\n",
    "dataset = dataset.drop(\"PassengerId\", axis=1) # Ticker number is irrelevant, ticket fare may be relevant..\n",
    "\n",
    "# Encoding string data so that we can input into our model\n",
    "from sklearn.preprocessing import LabelEncoder\n",
    "\n",
    "le = LabelEncoder()\n",
    "le.fit(dataset[\"Sex\"])\n",
    "\n",
    "dataset[\"Sex\"] = le.transform(dataset[\"Sex\"])\n",
    "\n",
    "le.fit(dataset['Embarked'])\n",
    "dataset['Embarked'] = le.transform(dataset['Embarked'])\n",
    "\n",
    "# Removing NaN Rows\n",
    "dataset = dataset.dropna()\n",
    "dataset"
   ]
  },
  {
   "cell_type": "code",
   "execution_count": 114,
   "id": "9d376d53",
   "metadata": {},
   "outputs": [],
   "source": [
    "from sklearn.model_selection import train_test_split\n",
    "Xtrain, Xtest, Ytrain, Ytest = train_test_split(dataset[['Pclass', 'Sex', 'Age', 'SibSp', 'Parch', 'Fare', 'Embarked']], dataset['Survived'], test_size=0.2)"
   ]
  },
  {
   "cell_type": "code",
   "execution_count": 115,
   "id": "8cf8447b",
   "metadata": {},
   "outputs": [
    {
     "data": {
      "text/plain": [
       "(264, 7)"
      ]
     },
     "execution_count": 115,
     "metadata": {},
     "output_type": "execute_result"
    }
   ],
   "source": [
    "Xtrain.shape"
   ]
  },
  {
   "cell_type": "code",
   "execution_count": 116,
   "id": "61a508ac",
   "metadata": {},
   "outputs": [
    {
     "data": {
      "text/plain": [
       "(264,)"
      ]
     },
     "execution_count": 116,
     "metadata": {},
     "output_type": "execute_result"
    }
   ],
   "source": [
    "Ytrain.shape"
   ]
  },
  {
   "cell_type": "code",
   "execution_count": 117,
   "id": "761a7ac8",
   "metadata": {},
   "outputs": [
    {
     "data": {
      "text/plain": [
       "(67, 7)"
      ]
     },
     "execution_count": 117,
     "metadata": {},
     "output_type": "execute_result"
    }
   ],
   "source": [
    "Xtest.shape"
   ]
  },
  {
   "cell_type": "code",
   "execution_count": 118,
   "id": "492bc3d6",
   "metadata": {},
   "outputs": [
    {
     "data": {
      "text/plain": [
       "(67,)"
      ]
     },
     "execution_count": 118,
     "metadata": {},
     "output_type": "execute_result"
    }
   ],
   "source": [
    "Ytest.shape"
   ]
  },
  {
   "cell_type": "code",
   "execution_count": 119,
   "id": "55768cfb",
   "metadata": {},
   "outputs": [
    {
     "data": {
      "text/plain": [
       "215    0\n",
       "370    0\n",
       "114    1\n",
       "136    0\n",
       "143    0\n",
       "      ..\n",
       "296    1\n",
       "226    0\n",
       "94     0\n",
       "263    1\n",
       "142    0\n",
       "Name: Survived, Length: 264, dtype: int64"
      ]
     },
     "execution_count": 119,
     "metadata": {},
     "output_type": "execute_result"
    }
   ],
   "source": [
    "Ytrain"
   ]
  },
  {
   "cell_type": "code",
   "execution_count": 120,
   "id": "41f47998",
   "metadata": {},
   "outputs": [
    {
     "data": {
      "text/html": [
       "<style>#sk-container-id-6 {color: black;background-color: white;}#sk-container-id-6 pre{padding: 0;}#sk-container-id-6 div.sk-toggleable {background-color: white;}#sk-container-id-6 label.sk-toggleable__label {cursor: pointer;display: block;width: 100%;margin-bottom: 0;padding: 0.3em;box-sizing: border-box;text-align: center;}#sk-container-id-6 label.sk-toggleable__label-arrow:before {content: \"▸\";float: left;margin-right: 0.25em;color: #696969;}#sk-container-id-6 label.sk-toggleable__label-arrow:hover:before {color: black;}#sk-container-id-6 div.sk-estimator:hover label.sk-toggleable__label-arrow:before {color: black;}#sk-container-id-6 div.sk-toggleable__content {max-height: 0;max-width: 0;overflow: hidden;text-align: left;background-color: #f0f8ff;}#sk-container-id-6 div.sk-toggleable__content pre {margin: 0.2em;color: black;border-radius: 0.25em;background-color: #f0f8ff;}#sk-container-id-6 input.sk-toggleable__control:checked~div.sk-toggleable__content {max-height: 200px;max-width: 100%;overflow: auto;}#sk-container-id-6 input.sk-toggleable__control:checked~label.sk-toggleable__label-arrow:before {content: \"▾\";}#sk-container-id-6 div.sk-estimator input.sk-toggleable__control:checked~label.sk-toggleable__label {background-color: #d4ebff;}#sk-container-id-6 div.sk-label input.sk-toggleable__control:checked~label.sk-toggleable__label {background-color: #d4ebff;}#sk-container-id-6 input.sk-hidden--visually {border: 0;clip: rect(1px 1px 1px 1px);clip: rect(1px, 1px, 1px, 1px);height: 1px;margin: -1px;overflow: hidden;padding: 0;position: absolute;width: 1px;}#sk-container-id-6 div.sk-estimator {font-family: monospace;background-color: #f0f8ff;border: 1px dotted black;border-radius: 0.25em;box-sizing: border-box;margin-bottom: 0.5em;}#sk-container-id-6 div.sk-estimator:hover {background-color: #d4ebff;}#sk-container-id-6 div.sk-parallel-item::after {content: \"\";width: 100%;border-bottom: 1px solid gray;flex-grow: 1;}#sk-container-id-6 div.sk-label:hover label.sk-toggleable__label {background-color: #d4ebff;}#sk-container-id-6 div.sk-serial::before {content: \"\";position: absolute;border-left: 1px solid gray;box-sizing: border-box;top: 0;bottom: 0;left: 50%;z-index: 0;}#sk-container-id-6 div.sk-serial {display: flex;flex-direction: column;align-items: center;background-color: white;padding-right: 0.2em;padding-left: 0.2em;position: relative;}#sk-container-id-6 div.sk-item {position: relative;z-index: 1;}#sk-container-id-6 div.sk-parallel {display: flex;align-items: stretch;justify-content: center;background-color: white;position: relative;}#sk-container-id-6 div.sk-item::before, #sk-container-id-6 div.sk-parallel-item::before {content: \"\";position: absolute;border-left: 1px solid gray;box-sizing: border-box;top: 0;bottom: 0;left: 50%;z-index: -1;}#sk-container-id-6 div.sk-parallel-item {display: flex;flex-direction: column;z-index: 1;position: relative;background-color: white;}#sk-container-id-6 div.sk-parallel-item:first-child::after {align-self: flex-end;width: 50%;}#sk-container-id-6 div.sk-parallel-item:last-child::after {align-self: flex-start;width: 50%;}#sk-container-id-6 div.sk-parallel-item:only-child::after {width: 0;}#sk-container-id-6 div.sk-dashed-wrapped {border: 1px dashed gray;margin: 0 0.4em 0.5em 0.4em;box-sizing: border-box;padding-bottom: 0.4em;background-color: white;}#sk-container-id-6 div.sk-label label {font-family: monospace;font-weight: bold;display: inline-block;line-height: 1.2em;}#sk-container-id-6 div.sk-label-container {text-align: center;}#sk-container-id-6 div.sk-container {/* jupyter's `normalize.less` sets `[hidden] { display: none; }` but bootstrap.min.css set `[hidden] { display: none !important; }` so we also need the `!important` here to be able to override the default hidden behavior on the sphinx rendered scikit-learn.org. See: https://github.com/scikit-learn/scikit-learn/issues/21755 */display: inline-block !important;position: relative;}#sk-container-id-6 div.sk-text-repr-fallback {display: none;}</style><div id=\"sk-container-id-6\" class=\"sk-top-container\"><div class=\"sk-text-repr-fallback\"><pre>LogisticRegression(max_iter=2000)</pre><b>In a Jupyter environment, please rerun this cell to show the HTML representation or trust the notebook. <br />On GitHub, the HTML representation is unable to render, please try loading this page with nbviewer.org.</b></div><div class=\"sk-container\" hidden><div class=\"sk-item\"><div class=\"sk-estimator sk-toggleable\"><input class=\"sk-toggleable__control sk-hidden--visually\" id=\"sk-estimator-id-6\" type=\"checkbox\" checked><label for=\"sk-estimator-id-6\" class=\"sk-toggleable__label sk-toggleable__label-arrow\">LogisticRegression</label><div class=\"sk-toggleable__content\"><pre>LogisticRegression(max_iter=2000)</pre></div></div></div></div></div>"
      ],
      "text/plain": [
       "LogisticRegression(max_iter=2000)"
      ]
     },
     "execution_count": 120,
     "metadata": {},
     "output_type": "execute_result"
    }
   ],
   "source": [
    "from sklearn.linear_model import LogisticRegression\n",
    "\n",
    "model = LogisticRegression(max_iter=2000)\n",
    "\n",
    "model.fit(Xtrain, Ytrain)"
   ]
  },
  {
   "cell_type": "code",
   "execution_count": 121,
   "id": "cbe4e833",
   "metadata": {},
   "outputs": [
    {
     "data": {
      "text/plain": [
       "1.0"
      ]
     },
     "execution_count": 121,
     "metadata": {},
     "output_type": "execute_result"
    }
   ],
   "source": [
    "model.score(Xtest, Ytest)"
   ]
  },
  {
   "cell_type": "code",
   "execution_count": 122,
   "id": "e8f21806",
   "metadata": {},
   "outputs": [],
   "source": [
    "def sigmoid(z):\n",
    "    return 1/(1 + np.exp(-z))"
   ]
  },
  {
   "cell_type": "code",
   "execution_count": 123,
   "id": "62f2f8e3",
   "metadata": {},
   "outputs": [],
   "source": [
    "def logistic_regression(X, Y, iterations, learning_rate):\n",
    "    \n",
    "    X = X.to_numpy()\n",
    "    Y = Y.to_numpy()\n",
    "\n",
    "    m = X.shape[0]\n",
    "    n = X.shape[1]\n",
    "    \n",
    "    # print(X.shape)\n",
    "    # print(Y.shape)\n",
    "    \n",
    "    # print(m, n, sep = \" \")\n",
    "    \n",
    "    W = np.zeros(n)\n",
    "    B = 0\n",
    "    \n",
    "    print(W.shape)\n",
    "    \n",
    "    J_all = []\n",
    "    \n",
    "    for i in range(iterations):\n",
    "        # print(W)\n",
    "        # print(B)\n",
    "        Z = (np.dot(X, W)) + B\n",
    "\n",
    "        # print(Z.shape)\n",
    "\n",
    "        F = sigmoid(Z)\n",
    "\n",
    "        # print(F.shape)\n",
    "        \n",
    "        # print(Z)\n",
    "        # print(F)\n",
    "        \n",
    "        epsilon = 1e-9  # Small epsilon value to avoid division by zero\n",
    "\n",
    "        E = np.sum(Y * np.log(F + epsilon) + (1 - Y) * np.log(1 - F + epsilon))\n",
    "\n",
    "        # print(E)\n",
    "\n",
    "        J = (-(1/m)) * E\n",
    "\n",
    "        # print(J)\n",
    "\n",
    "        DW = np.dot(X.T, (F - Y))\n",
    "        DB = (F - Y)\n",
    "\n",
    "        W = W - (learning_rate/m) * (DW)\n",
    "        B = B - (learning_rate/m) * np.sum(DB)\n",
    "        \n",
    "        if(i % 10 == 0):\n",
    "            J_all.append(J)\n",
    "\n",
    "    return J_all, W, B"
   ]
  },
  {
   "cell_type": "code",
   "execution_count": 124,
   "id": "09d6b713",
   "metadata": {},
   "outputs": [
    {
     "name": "stdout",
     "output_type": "stream",
     "text": [
      "(7,)\n"
     ]
    }
   ],
   "source": [
    "iterations = 2000\n",
    "learning_rate = 0.001\n",
    "Jlist, W, B = logistic_regression(Xtrain, Ytrain, iterations, learning_rate)"
   ]
  },
  {
   "cell_type": "code",
   "execution_count": 125,
   "id": "57d526ce",
   "metadata": {},
   "outputs": [
    {
     "data": {
      "text/plain": [
       "[0.6931471785599453,\n",
       " 0.6507733184498486,\n",
       " 0.6475449450170665,\n",
       " 0.6466026258889227,\n",
       " 0.6458341176796007,\n",
       " 0.6450834072275864,\n",
       " 0.6443379853651636,\n",
       " 0.64359678358681,\n",
       " 0.6428596670461677,\n",
       " 0.6421265780137336,\n",
       " 0.641397465678397,\n",
       " 0.6406722804024876,\n",
       " 0.6399509732514211,\n",
       " 0.6392334959507758,\n",
       " 0.6385198008768496,\n",
       " 0.6378098410495163,\n",
       " 0.6371035701251555,\n",
       " 0.636400942389564,\n",
       " 0.635701912750872,\n",
       " 0.6350064367324731,\n",
       " 0.6343144704659763,\n",
       " 0.6336259706841808,\n",
       " 0.6329408947140759,\n",
       " 0.6322592004698719,\n",
       " 0.6315808464460594,\n",
       " 0.6309057917105015,\n",
       " 0.6302339958975621,\n",
       " 0.6295654192012679,\n",
       " 0.6289000223685107,\n",
       " 0.6282377666922883,\n",
       " 0.6275786140049863,\n",
       " 0.6269225266717035,\n",
       " 0.62626946758362,\n",
       " 0.625619400151412,\n",
       " 0.6249722882987118,\n",
       " 0.6243280964556163,\n",
       " 0.6236867895522433,\n",
       " 0.6230483330123389,\n",
       " 0.6224126927469336,\n",
       " 0.6217798351480518,\n",
       " 0.6211497270824718,\n",
       " 0.6205223358855407,\n",
       " 0.6198976293550401,\n",
       " 0.6192755757451097,\n",
       " 0.6186561437602228,\n",
       " 0.6180393025492187,\n",
       " 0.61742502169939,\n",
       " 0.6168132712306271,\n",
       " 0.6162040215896187,\n",
       " 0.6155972436441093,\n",
       " 0.614992908677214,\n",
       " 0.6143909883817905,\n",
       " 0.6137914548548687,\n",
       " 0.6131942805921395,\n",
       " 0.6125994384824982,\n",
       " 0.6120069018026504,\n",
       " 0.6114166442117717,\n",
       " 0.6108286397462286,\n",
       " 0.6102428628143551,\n",
       " 0.6096592881912895,\n",
       " 0.6090778910138673,\n",
       " 0.6084986467755735,\n",
       " 0.6079215313215508,\n",
       " 0.607346520843668,\n",
       " 0.6067735918756427,\n",
       " 0.6062027212882241,\n",
       " 0.6056338862844309,\n",
       " 0.6050670643948474,\n",
       " 0.6045022334729744,\n",
       " 0.6039393716906385,\n",
       " 0.6033784575334556,\n",
       " 0.6028194697963516,\n",
       " 0.6022623875791364,\n",
       " 0.6017071902821356,\n",
       " 0.6011538576018751,\n",
       " 0.6006023695268207,\n",
       " 0.6000527063331705,\n",
       " 0.5995048485807037,\n",
       " 0.5989587771086796,\n",
       " 0.5984144730317907,\n",
       " 0.5978719177361691,\n",
       " 0.5973310928754428,\n",
       " 0.5967919803668459,\n",
       " 0.5962545623873778,\n",
       " 0.5957188213700148,\n",
       " 0.5951847399999709,\n",
       " 0.5946523012110092,\n",
       " 0.5941214881818017,\n",
       " 0.5935922843323391,\n",
       " 0.5930646733203876,\n",
       " 0.5925386390379958,\n",
       " 0.5920141656080465,\n",
       " 0.591491237380858,\n",
       " 0.5909698389308301,\n",
       " 0.590449955053137,\n",
       " 0.5899315707604659,\n",
       " 0.5894146712798002,\n",
       " 0.5888992420492477,\n",
       " 0.5883852687149134,\n",
       " 0.5878727371278141,\n",
       " 0.5873616333408388,\n",
       " 0.58685194360575,\n",
       " 0.5863436543702275,\n",
       " 0.5858367522749548,\n",
       " 0.585331224150745,\n",
       " 0.5848270570157101,\n",
       " 0.5843242380724676,\n",
       " 0.5838227547053889,\n",
       " 0.5833225944778871,\n",
       " 0.5828237451297427,\n",
       " 0.5823261945744673,\n",
       " 0.5818299308967074,\n",
       " 0.5813349423496834,\n",
       " 0.5808412173526666,\n",
       " 0.580348744488493,\n",
       " 0.5798575125011122,\n",
       " 0.5793675102931727,\n",
       " 0.5788787269236426,\n",
       " 0.5783911516054641,\n",
       " 0.5779047737032426,\n",
       " 0.5774195827309705,\n",
       " 0.5769355683497828,\n",
       " 0.5764527203657471,\n",
       " 0.5759710287276856,\n",
       " 0.5754904835250284,\n",
       " 0.5750110749856996,\n",
       " 0.5745327934740345,\n",
       " 0.5740556294887265,\n",
       " 0.5735795736608061,\n",
       " 0.5731046167516485,\n",
       " 0.5726307496510109,\n",
       " 0.5721579633751004,\n",
       " 0.5716862490646688,\n",
       " 0.5712155979831366,\n",
       " 0.5707460015147455,\n",
       " 0.5702774511627381,\n",
       " 0.5698099385475635,\n",
       " 0.569343455405113,\n",
       " 0.5688779935849779,\n",
       " 0.5684135450487383,\n",
       " 0.5679501018682728,\n",
       " 0.5674876562240972,\n",
       " 0.5670262004037264,\n",
       " 0.5665657268000611,\n",
       " 0.5661062279098001,\n",
       " 0.5656476963318741,\n",
       " 0.5651901247659059,\n",
       " 0.5647335060106919,\n",
       " 0.5642778329627072,\n",
       " 0.5638230986146331,\n",
       " 0.563369296053908,\n",
       " 0.5629164184612979,\n",
       " 0.5624644591094912,\n",
       " 0.5620134113617132,\n",
       " 0.5615632686703612,\n",
       " 0.5611140245756628,\n",
       " 0.5606656727043516,\n",
       " 0.5602182067683644,\n",
       " 0.5597716205635588,\n",
       " 0.5593259079684494,\n",
       " 0.5588810629429632,\n",
       " 0.5584370795272147,\n",
       " 0.5579939518402987,\n",
       " 0.5575516740791024,\n",
       " 0.5571102405171355,\n",
       " 0.556669645503377,\n",
       " 0.5562298834611415,\n",
       " 0.5557909488869607,\n",
       " 0.5553528363494842,\n",
       " 0.5549155404883948,\n",
       " 0.5544790560133426,\n",
       " 0.5540433777028939,\n",
       " 0.5536085004034962,\n",
       " 0.55317441902846,\n",
       " 0.5527411285569553,\n",
       " 0.5523086240330243,\n",
       " 0.5518769005646078,\n",
       " 0.5514459533225878,\n",
       " 0.5510157775398448,\n",
       " 0.5505863685103286,\n",
       " 0.5501577215881437,\n",
       " 0.5497298321866494,\n",
       " 0.5493026957775727,\n",
       " 0.5488763078901354,\n",
       " 0.5484506641101945,\n",
       " 0.5480257600793955,\n",
       " 0.5476015914943388,\n",
       " 0.5471781541057599,\n",
       " 0.5467554437177194,\n",
       " 0.5463334561868095,\n",
       " 0.5459121874213687,\n",
       " 0.5454916333807115,\n",
       " 0.5450717900743678,\n",
       " 0.5446526535613354,\n",
       " 0.5442342199493436,\n",
       " 0.5438164853941273,\n",
       " 0.543399446098714,\n",
       " 0.5429830983127195,\n",
       " 0.5425674383316564,\n",
       " 0.5421524624962523]"
      ]
     },
     "execution_count": 125,
     "metadata": {},
     "output_type": "execute_result"
    }
   ],
   "source": [
    "Jlist"
   ]
  },
  {
   "cell_type": "code",
   "execution_count": 126,
   "id": "ed36713a",
   "metadata": {},
   "outputs": [
    {
     "data": {
      "text/plain": [
       "[<matplotlib.lines.Line2D at 0x1bb74b6eb30>]"
      ]
     },
     "execution_count": 126,
     "metadata": {},
     "output_type": "execute_result"
    },
    {
     "data": {
      "image/png": "[encoded data removed]",
      "text/plain": [
       "<Figure size 640x480 with 1 Axes>"
      ]
     },
     "metadata": {},
     "output_type": "display_data"
    }
   ],
   "source": [
    "indices = []\n",
    "\n",
    "for i in range(len(Jlist)):\n",
    "    indices.append(i + 1)\n",
    "\n",
    "plt.plot(indices, Jlist)"
   ]
  },
  {
   "cell_type": "code",
   "execution_count": 127,
   "id": "28220bc2",
   "metadata": {},
   "outputs": [
    {
     "data": {
      "text/plain": [
       "'class myLogisticRegression:\\n    def __init__(self, learning_rate=0.001, n_iters=1000):\\n        self.lr = learning_rate\\n        self.n_iters = n_iters\\n        self.weights = None\\n        self.bias = None\\n        self.losses = []\\n         \\n    #Sigmoid method\\n    def _sigmoid(self, x):\\n        return 1 / (1 + np.exp(-x))\\n\\n    def compute_loss(self, y_true, y_pred):\\n        # binary cross entropy\\n        epsilon = 1e-9\\n        y1 = y_true * np.log(y_pred + epsilon)\\n        y2 = (1-y_true) * np.log(1 - y_pred + epsilon)\\n        return -np.mean(y1 + y2)\\n\\n    def feed_forward(self,X):\\n        z = np.dot(X, self.weights) + self.bias\\n        A = self._sigmoid(z)\\n        return A\\n\\n    def fit(self, X, y):\\n        n_samples, n_features = X.shape\\n\\n        # init parameters\\n        self.weights = np.zeros(n_features)\\n        self.bias = 0\\n\\n        # gradient descent\\n        for _ in range(self.n_iters):\\n            A = self.feed_forward(X)\\n            self.losses.append(self.compute_loss(y,A))\\n            dz = A - y # derivative of sigmoid and bce X.T*(A-y)\\n            # compute gradients\\n            dw = (1 / n_samples) * np.dot(X.T, dz)\\n            db = (1 / n_samples) * np.sum(dz)\\n            # update parameters\\n            self.weights -= self.lr * dw\\n            self.bias -= self.lr * db\\n            \\n    def predict(self, X):\\n        threshold = .5\\n        y_hat = np.dot(X, self.weights) + self.bias\\n        y_predicted = self._sigmoid(y_hat)\\n        y_predicted_cls = [1 if i > threshold else 0 for i in y_predicted]\\n        \\n        return np.array(y_predicted_cls)\\n'"
      ]
     },
     "execution_count": 127,
     "metadata": {},
     "output_type": "execute_result"
    }
   ],
   "source": [
    "'''class myLogisticRegression:\n",
    "    def __init__(self, learning_rate=0.001, n_iters=1000):\n",
    "        self.lr = learning_rate\n",
    "        self.n_iters = n_iters\n",
    "        self.weights = None\n",
    "        self.bias = None\n",
    "        self.losses = []\n",
    "         \n",
    "    #Sigmoid method\n",
    "    def _sigmoid(self, x):\n",
    "        return 1 / (1 + np.exp(-x))\n",
    "\n",
    "    def compute_loss(self, y_true, y_pred):\n",
    "        # binary cross entropy\n",
    "        epsilon = 1e-9\n",
    "        y1 = y_true * np.log(y_pred + epsilon)\n",
    "        y2 = (1-y_true) * np.log(1 - y_pred + epsilon)\n",
    "        return -np.mean(y1 + y2)\n",
    "\n",
    "    def feed_forward(self,X):\n",
    "        z = np.dot(X, self.weights) + self.bias\n",
    "        A = self._sigmoid(z)\n",
    "        return A\n",
    "\n",
    "    def fit(self, X, y):\n",
    "        n_samples, n_features = X.shape\n",
    "\n",
    "        # init parameters\n",
    "        self.weights = np.zeros(n_features)\n",
    "        self.bias = 0\n",
    "\n",
    "        # gradient descent\n",
    "        for _ in range(self.n_iters):\n",
    "            A = self.feed_forward(X)\n",
    "            self.losses.append(self.compute_loss(y,A))\n",
    "            dz = A - y # derivative of sigmoid and bce X.T*(A-y)\n",
    "            # compute gradients\n",
    "            dw = (1 / n_samples) * np.dot(X.T, dz)\n",
    "            db = (1 / n_samples) * np.sum(dz)\n",
    "            # update parameters\n",
    "            self.weights -= self.lr * dw\n",
    "            self.bias -= self.lr * db\n",
    "            \n",
    "    def predict(self, X):\n",
    "        threshold = .5\n",
    "        y_hat = np.dot(X, self.weights) + self.bias\n",
    "        y_predicted = self._sigmoid(y_hat)\n",
    "        y_predicted_cls = [1 if i > threshold else 0 for i in y_predicted]\n",
    "        \n",
    "        return np.array(y_predicted_cls)\n",
    "'''"
   ]
  },
  {
   "cell_type": "code",
   "execution_count": 128,
   "id": "70a4b4f6",
   "metadata": {},
   "outputs": [
    {
     "data": {
      "text/plain": [
       "'model = myLogisticRegression()\\n\\nmodel.fit(Xtrain, Ytrain)\\n\\nmodel.losses '"
      ]
     },
     "execution_count": 128,
     "metadata": {},
     "output_type": "execute_result"
    }
   ],
   "source": [
    "'''model = myLogisticRegression()\n",
    "\n",
    "model.fit(Xtrain, Ytrain)\n",
    "\n",
    "model.losses '''"
   ]
  },
  {
   "cell_type": "code",
   "execution_count": 129,
   "id": "2ddd3125",
   "metadata": {},
   "outputs": [],
   "source": [
    "def mypredict(W, B, X):\n",
    "    X = X.to_numpy()\n",
    "    \n",
    "    y_prob = sigmoid(np.dot(X, W) + B)\n",
    "    \n",
    "    predictions = []\n",
    "    \n",
    "    for element in y_prob:\n",
    "        \n",
    "        if element >= 0.5:\n",
    "            predictions.append(1)\n",
    "        \n",
    "        else:\n",
    "            predictions.append(0)\n",
    "    \n",
    "    return np.array(predictions, dtype='int32')\n",
    "\n",
    "\n",
    "def myscore(Ytest, Ypred):\n",
    "    \n",
    "    correct = 0\n",
    "    incorrect = 0\n",
    "    \n",
    "    for x, y in zip(Ytest, Ypred):\n",
    "        \n",
    "        if x == y:\n",
    "            correct += 1\n",
    "        \n",
    "        else:\n",
    "            incorrect += 1\n",
    "    \n",
    "    return (correct / (incorrect + correct)) "
   ]
  },
  {
   "cell_type": "code",
   "execution_count": 130,
   "id": "23028456",
   "metadata": {},
   "outputs": [
    {
     "name": "stdout",
     "output_type": "stream",
     "text": [
      "0.6417910447761194\n"
     ]
    }
   ],
   "source": [
    "Ypred = mypredict(W, B, Xtest)\n",
    "print(myscore(Ytest, Ypred))"
   ]
  },
  {
   "cell_type": "markdown",
   "id": "decc9e83",
   "metadata": {},
   "source": [
    "# Secret to Success: Always Keep Going, Don't Stop!! Even if all the odds are against you..  "
   ]
  },
  {
   "cell_type": "code",
   "execution_count": null,
   "id": "758301a6",
   "metadata": {},
   "outputs": [],
   "source": []
  }
 ],
 "metadata": {
  "kernelspec": {
   "display_name": "Python 3 (ipykernel)",
   "language": "python",
   "name": "python3"
  },
  "language_info": {
   "codemirror_mode": {
    "name": "ipython",
    "version": 3
   },
   "file_extension": ".py",
   "mimetype": "text/x-python",
   "name": "python",
   "nbconvert_exporter": "python",
   "pygments_lexer": "ipython3",
   "version": "3.10.9"
  }
 },
 "nbformat": 4,
 "nbformat_minor": 5
}
